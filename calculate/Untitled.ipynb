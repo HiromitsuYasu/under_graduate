{
 "cells": [
  {
   "cell_type": "code",
   "execution_count": 1,
   "metadata": {},
   "outputs": [
    {
     "name": "stdout",
     "output_type": "stream",
     "text": [
      "\n"
     ]
    }
   ],
   "source": [
    "import ALLM\n",
    "import math\n",
    "import numpy as np\n",
    "\n",
    "E_mu = 1.5\n",
    "m_N = 0.94\n",
    "m_pi = 0.14\n",
    "a = 1.0 / 137.0\n",
    "W = 1.25\n",
    "E_gamma = W * W / (2 * m_N)\n",
    "y = E_gamma / E_mu\n",
    "Q2_min = m_pi **2 * y**2 / (1 - y)\n",
    "z = y + 0.3\n",
    "teisu = a / math.pi\n",
    "GeV_cm = 3.88 * 10**(-26.0)\n",
    "\n",
    "logy = np.log(z / y)\n",
    "y_minus = z - y\n",
    "y2_minus = (z **2) - (y **2)\n",
    "\n",
    "division_number = 1000\n",
    "total_sigma_µN_cm = 0.0\n",
    "total_logQ2 = 0.0\n",
    "total_Q2_minus = 0.0\n",
    "\n",
    "#parameter dN/dt\n",
    "rho = 1.0\n",
    "N_A = 6.0 * 10**23\n",
    "A = 1.0\n",
    "Pb = 2.0 * 2.0 * 4\n",
    "\n",
    "###aaaaaaaaaaaaa\n",
    "\n",
    "def crosssection(j):\n",
    "    for i  in range(0, division_number):\n",
    "        x = j / (2 * E_gamma * m_N)\n",
    "\n",
    "        sigma_tot = ( (4 * math.pi **2 * a ) / ( j * (1 - x)) )  * ((j + 4 * m_N **2 * x **2) / j ) * ALLM.allm_f2(x, j)\n",
    "        logQ = np.log(j / Q2_min)\n",
    "        Q_minus = Q2_min * ((1 / j) - (1 / Q2_min) ) \n",
    "\n",
    "        #difine range of integration\n",
    "        Q2_differnce = j - Q2_min\n",
    "        left_range_Q = Q2_min + ( i * Q2_differnce / division_number )\n",
    "        right_range_Q =  Q2_min + ( (i + 1)  * Q2_differnce / division_number)\n",
    "       \n",
    "       #integrate from i to i+1\n",
    "        temp_logQ2 = np.log(right_range_Q / left_range_Q)\n",
    "        temp_Q2_minus = Q2_min * ((1 / right_range_Q) - (1/ left_range_Q) )\n",
    "\n",
    "        #integrate from i to i+1  + integrate from i+1 to i+2 +... + integrate from division-1 to division \n",
    "        total_logQ2 += temp_logQ2\n",
    "        total_Q2_minus += temp_Q2_minus\n",
    "\n",
    "    for i in range(0, division_number):\n",
    "        y_difference = z - y\n",
    "        #difine range\n",
    "        left_range_y = y + ( i * y_difference / division_number)\n",
    "        right_range_y = y + ( (i + 1 ) * y_difference / division_number)\n",
    "\n",
    "        #integrate from i to i+1\n",
    "        temp_logy = np.log(right_range_y / left_range_y)\n",
    "        temp_y_minus = left_range_y - right_range_y\n",
    "        temp_y2_minus = (left_range_y **2) - (right_range_y **2)\n",
    "        partially_sigma_µN_GeV = sigma_tot * teisu * (( (total_logQ2 + total_Q2_minus) * temp_logy) - ((total_logQ2 + total_Q2_minus) * temp_y_minus) + (total_logQ2 * temp_y2_minus /4) )\n",
    "        temp_partially_sigma_µN_cm = partially_sigma_µN_GeV * GeV_cm\n",
    "\n",
    "        part_sigma.append(temp_partially_sigma_µN_cm)\n",
    "        #integrate from i to i+1  + integrate from i+1 to i+2 +... + integrate from division-1 to division\n",
    "        total_sigma_µN_cm += temp_partially_sigma_µN_cm   \n",
    "        \n",
    "        #not integrate\n",
    "        sigma_µN_GeV = sigma_tot * teisu * ( ( (logQ + Q_minus) * logy) - ((logQ + Q_minus) * y_minus) + (logQ * y2_minus /4) )\n",
    "        sigma_µN_cm = sigma_µN_GeV * GeV_cm\n",
    "\n",
    "        dNdt_rough =  -rho * N_A * sigma_µN_cm * Pb / A\n",
    "        dNdt_integation = -rho * N_A * total_sigma_µN_cm * Pb / A\n",
    "    return total_sigma_µN_cm\n"
   ]
  },
  {
   "cell_type": "code",
   "execution_count": 3,
   "metadata": {},
   "outputs": [
    {
     "ename": "UnboundLocalError",
     "evalue": "local variable 'total_logQ2' referenced before assignment",
     "output_type": "error",
     "traceback": [
      "\u001b[0;31m---------------------------------------------------------------------------\u001b[0m",
      "\u001b[0;31mUnboundLocalError\u001b[0m                         Traceback (most recent call last)",
      "\u001b[0;32m<ipython-input-3-070ec1118af9>\u001b[0m in \u001b[0;36m<module>\u001b[0;34m\u001b[0m\n\u001b[0;32m----> 1\u001b[0;31m \u001b[0mcrosssection\u001b[0m\u001b[0;34m(\u001b[0m\u001b[0mnp\u001b[0m\u001b[0;34m.\u001b[0m\u001b[0marray\u001b[0m\u001b[0;34m(\u001b[0m\u001b[0;34m[\u001b[0m\u001b[0;36m0.01\u001b[0m\u001b[0;34m]\u001b[0m\u001b[0;34m)\u001b[0m\u001b[0;34m)\u001b[0m\u001b[0;34m\u001b[0m\u001b[0;34m\u001b[0m\u001b[0m\n\u001b[0m",
      "\u001b[0;32m<ipython-input-1-0f967fad71c6>\u001b[0m in \u001b[0;36mcrosssection\u001b[0;34m(j)\u001b[0m\n\u001b[1;32m     50\u001b[0m \u001b[0;34m\u001b[0m\u001b[0m\n\u001b[1;32m     51\u001b[0m         \u001b[0;31m#integrate from i to i+1  + integrate from i+1 to i+2 +... + integrate from division-1 to division\u001b[0m\u001b[0;34m\u001b[0m\u001b[0;34m\u001b[0m\u001b[0;34m\u001b[0m\u001b[0m\n\u001b[0;32m---> 52\u001b[0;31m         \u001b[0mtotal_logQ2\u001b[0m \u001b[0;34m+=\u001b[0m \u001b[0mtemp_logQ2\u001b[0m\u001b[0;34m\u001b[0m\u001b[0;34m\u001b[0m\u001b[0m\n\u001b[0m\u001b[1;32m     53\u001b[0m         \u001b[0mtotal_Q2_minus\u001b[0m \u001b[0;34m+=\u001b[0m \u001b[0mtemp_Q2_minus\u001b[0m\u001b[0;34m\u001b[0m\u001b[0;34m\u001b[0m\u001b[0m\n\u001b[1;32m     54\u001b[0m \u001b[0;34m\u001b[0m\u001b[0m\n",
      "\u001b[0;31mUnboundLocalError\u001b[0m: local variable 'total_logQ2' referenced before assignment"
     ]
    }
   ],
   "source": [
    "crosssection(np.array([0.01])) "
   ]
  },
  {
   "cell_type": "code",
   "execution_count": null,
   "metadata": {},
   "outputs": [],
   "source": []
  }
 ],
 "metadata": {
  "kernelspec": {
   "display_name": "Python 3",
   "language": "python",
   "name": "python3"
  },
  "language_info": {
   "codemirror_mode": {
    "name": "ipython",
    "version": 3
   },
   "file_extension": ".py",
   "mimetype": "text/x-python",
   "name": "python",
   "nbconvert_exporter": "python",
   "pygments_lexer": "ipython3",
   "version": "3.7.3"
  }
 },
 "nbformat": 4,
 "nbformat_minor": 2
}
