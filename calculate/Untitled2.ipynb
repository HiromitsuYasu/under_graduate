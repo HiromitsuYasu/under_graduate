{
 "cells": [
  {
   "cell_type": "code",
   "execution_count": 15,
   "metadata": {},
   "outputs": [
    {
     "data": {
      "image/png": "[encoded data removed]",
      "text/plain": [
       "<Figure size 432x288 with 1 Axes>"
      ]
     },
     "metadata": {
      "needs_background": "light"
     },
     "output_type": "display_data"
    }
   ],
   "source": [
    "import numpy as np\n",
    "import math\n",
    "import matplotlib.pyplot as plt\n",
    "import sigma_used_book \n",
    "import theta_y_fixed \n",
    "\n",
    "Q2_rand = 0.001 + (0.99 - 0.001) * np.random.rand(100000)\n",
    "y_rand = 0.001 + (0.99 - 0.001) * np.random.rand(100000)\n",
    "cross_section = sigma_used_book.crosssection(y_rand, Q2_rand)\n",
    "theta = theta_y_fixed.theta(y_rand, Q2_rand)\n",
    "\n",
    "plt.hist(\n",
    "    theta/np.pi,\n",
    "    weights=cross_section,\n",
    "    range=(0, 1.0),\n",
    "    bins=30,\n",
    "    )\n",
    "plt.xlabel(\"theta [rad/pi]\")\n",
    "plt.ylabel(\"proportional to prob\")\n",
    "plt.title(\"after\")\n",
    "plt.show()"
   ]
  },
  {
   "cell_type": "code",
   "execution_count": 16,
   "metadata": {},
   "outputs": [
    {
     "data": {
      "text/plain": [
       "array([0.95810377, 0.51548154, 1.13682206, ..., 0.33817782, 0.61995465,\n",
       "       0.8109833 ])"
      ]
     },
     "execution_count": 16,
     "metadata": {},
     "output_type": "execute_result"
    }
   ],
   "source": [
    "theta"
   ]
  },
  {
   "cell_type": "code",
   "execution_count": 17,
   "metadata": {},
   "outputs": [
    {
     "data": {
      "text/plain": [
       "array([0.00018376, 0.00046537, 0.0008295 , ..., 0.01043101,        nan,\n",
       "              nan])"
      ]
     },
     "execution_count": 17,
     "metadata": {},
     "output_type": "execute_result"
    }
   ],
   "source": [
    "cross_section"
   ]
  },
  {
   "cell_type": "code",
   "execution_count": 37,
   "metadata": {},
   "outputs": [
    {
     "data": {
      "image/png": "[encoded data removed]",
      "text/plain": [
       "<Figure size 432x288 with 1 Axes>"
      ]
     },
     "metadata": {
      "needs_background": "light"
     },
     "output_type": "display_data"
    }
   ],
   "source": [
    "plt.hist(\n",
    "    theta/np.pi,\n",
    "    #weights=cross_section,\n",
    "    range=(0, 1.0),\n",
    "    bins=30,\n",
    "    density=True\n",
    "    )\n",
    "plt.xlabel(\"theta [rad/pi]\")\n",
    "plt.ylabel(\"proportional to prob\")\n",
    "plt.title(\"after\")\n",
    "plt.show()"
   ]
  },
  {
   "cell_type": "code",
   "execution_count": 47,
   "metadata": {},
   "outputs": [
    {
     "data": {
      "image/png": "[encoded data removed]",
      "text/plain": [
       "<Figure size 432x288 with 1 Axes>"
      ]
     },
     "metadata": {
      "needs_background": "light"
     },
     "output_type": "display_data"
    }
   ],
   "source": [
    "fig, ax = plt.subplots()\n",
    "n, bins, patches = ax.hist(theta/np.pi,weights=cross_section, range=(0, 1.0),\n",
    "    bins=30)\n",
    "plt.show()"
   ]
  },
  {
   "cell_type": "code",
   "execution_count": 48,
   "metadata": {},
   "outputs": [
    {
     "data": {
      "text/plain": [
       "array([       nan,        nan,        nan,        nan,        nan,\n",
       "              nan,        nan,        nan,        nan, 6.63540753,\n",
       "       4.83396502, 3.44315497, 2.39453776, 1.8740205 , 1.36112264,\n",
       "       1.05971319, 0.85141009, 0.6392415 , 0.53153347, 0.43622099,\n",
       "       0.3586189 , 0.270236  , 0.21793843, 0.17008238, 0.14547028,\n",
       "       0.11936646, 0.09404698, 0.04630832, 0.03369351, 0.01071431])"
      ]
     },
     "execution_count": 48,
     "metadata": {},
     "output_type": "execute_result"
    }
   ],
   "source": [
    "n"
   ]
  },
  {
   "cell_type": "code",
   "execution_count": null,
   "metadata": {},
   "outputs": [],
   "source": []
  }
 ],
 "metadata": {
  "kernelspec": {
   "display_name": "Python 3",
   "language": "python",
   "name": "python3"
  },
  "language_info": {
   "codemirror_mode": {
    "name": "ipython",
    "version": 3
   },
   "file_extension": ".py",
   "mimetype": "text/x-python",
   "name": "python",
   "nbconvert_exporter": "python",
   "pygments_lexer": "ipython3",
   "version": "3.7.3"
  }
 },
 "nbformat": 4,
 "nbformat_minor": 2
}
