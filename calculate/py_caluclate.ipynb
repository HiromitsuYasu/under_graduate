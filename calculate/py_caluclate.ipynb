{
 "cells": [
  {
   "cell_type": "code",
   "execution_count": null,
   "metadata": {},
   "outputs": [],
   "source": [
    "import math\n",
    "import numpy as np\n",
    "Q2 = 1\n",
    "E_µ =1.5\n",
    "m_N = 0.94\n",
    "m_pion = 0.14\n",
    "a = 1 / 137\n",
    "F2 = 0.12\n",
    "\n",
    "def sigma_µN(W):\n",
    "    E_gamma = W * W / (2 * m_N)\n",
    "    y = E_gamma / E_µ\n",
    "    x = Q2 / (2 * E_gamma * m_N)\n",
    "\n",
    "    Q2_min = m_pion **2 * y **2 / (1 - y)\n",
    "    sigma_tot = ( (4 * math.pi **2 * a ) / ( Q2 * (1 - x)) )  * ((Q2 + 4 * m_N **2 * x **2) / Q2 ) * F2\n",
    "\n",
    "    z = y + 0.3\n",
    "\n",
    "    logQ = np.log(Q2 / Q2_min)\n",
    "    Q_minus = Q2_min * ((1 / Q2) - (1 / Q2_min) )\n",
    "    logy = np.log(z / y)\n",
    "    y_minus = z - y\n",
    "    y2_minus = (z **2) - (y **2)\n",
    "    teisu = a / math.pi\n",
    "\n",
    "    sigma_µN_GeV = sigma_tot * teisu * ( ( (logQ + Q_minus) * logy) - ((logQ + Q_minus) * y_minus) + (logQ * y2_minus /4) )\n",
    "    GeV_cm = 3.88 * 10**(-26.0)\n",
    "    sigma_µN_cm = sigma_µN_GeV * GeV_cm\n",
    "    sigma_µN_b = sigma_µN_cm * 10**24\n",
    "    \n",
    "    print([x, y , Q2_min , Q2])\n",
    "    \n",
    "    return [sigma_µN_cm, sigma_µN_b]"
   ]
  },
  {
   "cell_type": "code",
   "execution_count": null,
   "metadata": {},
   "outputs": [],
   "source": [
    "sigma_µN([1.25])"
   ]
  },
  {
   "cell_type": "code",
   "execution_count": null,
   "metadata": {},
   "outputs": [],
   "source": [
    "sigma_µN(1.25):"
   ]
  },
  {
   "cell_type": "code",
   "execution_count": 9,
   "metadata": {},
   "outputs": [],
   "source": [
    "import math\n",
    "import numpy as np"
   ]
  },
  {
   "cell_type": "code",
   "execution_count": 10,
   "metadata": {},
   "outputs": [
    {
     "ename": "TypeError",
     "evalue": "must be real number, not list",
     "output_type": "error",
     "traceback": [
      "\u001b[0;31m---------------------------------------------------------------------------\u001b[0m",
      "\u001b[0;31mTypeError\u001b[0m                                 Traceback (most recent call last)",
      "\u001b[0;32m<ipython-input-10-9ccc75f2eb55>\u001b[0m in \u001b[0;36m<module>\u001b[0;34m\u001b[0m\n\u001b[0;32m----> 1\u001b[0;31m \u001b[0mmath\u001b[0m\u001b[0;34m.\u001b[0m\u001b[0msin\u001b[0m\u001b[0;34m(\u001b[0m\u001b[0;34m[\u001b[0m\u001b[0;36m1\u001b[0m\u001b[0;34m,\u001b[0m\u001b[0;36m2\u001b[0m\u001b[0;34m]\u001b[0m\u001b[0;34m)\u001b[0m\u001b[0;34m\u001b[0m\u001b[0;34m\u001b[0m\u001b[0m\n\u001b[0m",
      "\u001b[0;31mTypeError\u001b[0m: must be real number, not list"
     ]
    }
   ],
   "source": [
    "math.sin([1,2])"
   ]
  },
  {
   "cell_type": "code",
   "execution_count": null,
   "metadata": {},
   "outputs": [],
   "source": [
    "np.sin([1,2])"
   ]
  },
  {
   "cell_type": "code",
   "execution_count": null,
   "metadata": {},
   "outputs": [],
   "source": []
  }
 ],
 "metadata": {
  "kernelspec": {
   "display_name": "Python 3",
   "language": "python",
   "name": "python3"
  },
  "language_info": {
   "codemirror_mode": {
    "name": "ipython",
    "version": 3
   },
   "file_extension": ".py",
   "mimetype": "text/x-python",
   "name": "python",
   "nbconvert_exporter": "python",
   "pygments_lexer": "ipython3",
   "version": "3.7.3"
  }
 },
 "nbformat": 4,
 "nbformat_minor": 2
}
